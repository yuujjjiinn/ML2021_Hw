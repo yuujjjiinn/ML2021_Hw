{
  "nbformat": 4,
  "nbformat_minor": 0,
  "metadata": {
    "colab": {
      "provenance": [],
      "include_colab_link": true
    },
    "kernelspec": {
      "name": "python3",
      "display_name": "Python 3"
    },
    "accelerator": "GPU"
  },
  "cells": [
    {
      "cell_type": "markdown",
      "metadata": {
        "id": "view-in-github",
        "colab_type": "text"
      },
      "source": [
        "<a href=\"https://colab.research.google.com/github/yuujjjiinn/ML2021_Hw/blob/main/JING_ML_HW01.ipynb\" target=\"_parent\"><img src=\"https://colab.research.google.com/assets/colab-badge.svg\" alt=\"Open In Colab\"/></a>"
      ]
    },
    {
      "cell_type": "markdown",
      "metadata": {
        "id": "mz0_QVkxCrX3"
      },
      "source": [
        "# **Homework 1: COVID-19 Cases Prediction (Regression)**"
      ]
    },
    {
      "cell_type": "markdown",
      "metadata": {
        "id": "ZeZnPAiwDRWG"
      },
      "source": [
        "Author: Heng-Jui Chang\n",
        "\n",
        "Slides: https://github.com/ga642381/ML2021-Spring/blob/main/HW01/HW01.pdf  \n",
        "Videos (Mandarin): https://cool.ntu.edu.tw/courses/4793/modules/items/172854  \n",
        "https://cool.ntu.edu.tw/courses/4793/modules/items/172853  \n",
        "Video (English): https://cool.ntu.edu.tw/courses/4793/modules/items/176529\n",
        "\n",
        "\n",
        "Objectives:\n",
        "* Solve a regression problem with deep neural networks (DNN).\n",
        "* Understand basic DNN training tips.\n",
        "* Get familiar with PyTorch.\n",
        "\n",
        "If any questions, please contact the TAs via TA hours, NTU COOL, or email.\n"
      ]
    },
    {
      "cell_type": "markdown",
      "metadata": {
        "id": "Jx3x1nDkG-Uy"
      },
      "source": [
        "# **Download Data**\n",
        "\n",
        "\n",
        "If the Google drive links are dead, you can download data from [kaggle](https://www.kaggle.com/c/ml2021spring-hw1/data), and upload data manually to the workspace."
      ]
    },
    {
      "cell_type": "code",
      "metadata": {
        "colab": {
          "base_uri": "https://localhost:8080/"
        },
        "id": "tMj55YDKG6ch",
        "outputId": "572f1e2b-a660-4660-e1cc-aead34d45480"
      },
      "source": [
        "tr_path = 'covid.train.csv'  # path to training data\n",
        "tt_path = 'covid.test.csv'   # path to testing data\n",
        "\n",
        "\n",
        "!gdown --id '19CCyCgJrUxtvgZF53vnctJiOJ23T5mqF' --output covid.train.csv\n",
        "!gdown --id '1CE240jLm2npU-tdz81-oVKEF3T2yfT1O' --output covid.test.csv"
      ],
      "execution_count": 30,
      "outputs": [
        {
          "output_type": "stream",
          "name": "stdout",
          "text": [
            "/usr/local/lib/python3.10/dist-packages/gdown/__main__.py:132: FutureWarning: Option `--id` was deprecated in version 4.3.1 and will be removed in 5.0. You don't need to pass it anymore to use a file ID.\n",
            "  warnings.warn(\n",
            "Downloading...\n",
            "From: https://drive.google.com/uc?id=19CCyCgJrUxtvgZF53vnctJiOJ23T5mqF\n",
            "To: /content/covid.train.csv\n",
            "100% 2.00M/2.00M [00:00<00:00, 184MB/s]\n",
            "/usr/local/lib/python3.10/dist-packages/gdown/__main__.py:132: FutureWarning: Option `--id` was deprecated in version 4.3.1 and will be removed in 5.0. You don't need to pass it anymore to use a file ID.\n",
            "  warnings.warn(\n",
            "Downloading...\n",
            "From: https://drive.google.com/uc?id=1CE240jLm2npU-tdz81-oVKEF3T2yfT1O\n",
            "To: /content/covid.test.csv\n",
            "100% 651k/651k [00:00<00:00, 144MB/s]\n"
          ]
        }
      ]
    },
    {
      "cell_type": "markdown",
      "metadata": {
        "id": "wS_4-77xHk44"
      },
      "source": [
        "# **Import Some Packages**"
      ]
    },
    {
      "cell_type": "code",
      "metadata": {
        "id": "k-onQd4JNA5H"
      },
      "source": [
        "# PyTorch\n",
        "import torch\n",
        "import torch.nn as nn\n",
        "from torch.utils.data import Dataset, DataLoader\n",
        "\n",
        "# For data preprocess\n",
        "import numpy as np\n",
        "import csv\n",
        "import os\n",
        "\n",
        "# For plotting\n",
        "import matplotlib.pyplot as plt\n",
        "from matplotlib.pyplot import figure\n",
        "\n",
        "myseed = 42069  # set a random seed for reproducibility\n",
        "torch.backends.cudnn.deterministic = True\n",
        "torch.backends.cudnn.benchmark = False\n",
        "np.random.seed(myseed)\n",
        "torch.manual_seed(myseed)\n",
        "if torch.cuda.is_available():\n",
        "    torch.cuda.manual_seed_all(myseed)"
      ],
      "execution_count": 31,
      "outputs": []
    },
    {
      "cell_type": "markdown",
      "metadata": {
        "id": "BtE3b6JEH7rw"
      },
      "source": [
        "# **Some Utilities**\n",
        "\n",
        "You do not need to modify this part."
      ]
    },
    {
      "cell_type": "code",
      "metadata": {
        "id": "FWMT3uf1NGQp"
      },
      "source": [
        "def get_device():\n",
        "    ''' Get device (if GPU is available, use GPU) '''\n",
        "    return 'cuda' if torch.cuda.is_available() else 'cpu'\n",
        "\n",
        "def plot_learning_curve(loss_record, title=''):\n",
        "    ''' Plot learning curve of your DNN (train & dev loss) '''\n",
        "    total_steps = len(loss_record['train'])\n",
        "    x_1 = range(total_steps)\n",
        "    x_2 = x_1[::len(loss_record['train']) // len(loss_record['dev'])]\n",
        "    figure(figsize=(6, 4))\n",
        "    plt.plot(x_1, loss_record['train'], c='tab:red', label='train')\n",
        "    plt.plot(x_2, loss_record['dev'], c='tab:cyan', label='dev')\n",
        "    plt.ylim(0.0, 5.)\n",
        "    plt.xlabel('Training steps')\n",
        "    plt.ylabel('MSE loss')\n",
        "    plt.title('Learning curve of {}'.format(title))\n",
        "    plt.legend()\n",
        "    plt.show()\n",
        "\n",
        "\n",
        "def plot_pred(dv_set, model, device, lim=35., preds=None, targets=None):\n",
        "    ''' Plot prediction of your DNN '''\n",
        "    if preds is None or targets is None:\n",
        "        model.eval()\n",
        "        preds, targets = [], []\n",
        "        for x, y in dv_set:\n",
        "            x, y = x.to(device), y.to(device)\n",
        "            with torch.no_grad():\n",
        "                pred = model(x)\n",
        "                preds.append(pred.detach().cpu())\n",
        "                targets.append(y.detach().cpu())\n",
        "        preds = torch.cat(preds, dim=0).numpy()\n",
        "        targets = torch.cat(targets, dim=0).numpy()\n",
        "\n",
        "    figure(figsize=(5, 5))\n",
        "    plt.scatter(targets, preds, c='r', alpha=0.5)\n",
        "    plt.plot([-0.2, lim], [-0.2, lim], c='b')\n",
        "    plt.xlim(-0.2, lim)\n",
        "    plt.ylim(-0.2, lim)\n",
        "    plt.xlabel('ground truth value')\n",
        "    plt.ylabel('predicted value')\n",
        "    plt.title('Ground Truth v.s. Prediction')\n",
        "    plt.show()"
      ],
      "execution_count": 32,
      "outputs": []
    },
    {
      "cell_type": "markdown",
      "metadata": {
        "id": "39U_XFX6KOoj"
      },
      "source": [
        "# **Preprocess**\n",
        "\n",
        "We have three kinds of datasets:\n",
        "* `train`: for training\n",
        "* `dev`: for validation\n",
        "* `test`: for testing (w/o target value)"
      ]
    },
    {
      "cell_type": "markdown",
      "metadata": {
        "id": "TQ-MdwpLL7Dt"
      },
      "source": [
        "## **Dataset**\n",
        "\n",
        "The `COVID19Dataset` below does:\n",
        "* read `.csv` files\n",
        "* extract features\n",
        "* split `covid.train.csv` into train/dev sets\n",
        "* normalize features\n",
        "\n",
        "Finishing `TODO` below might make you pass medium baseline."
      ]
    },
    {
      "cell_type": "markdown",
      "source": [
        "### try::加入L1選擇feature"
      ],
      "metadata": {
        "id": "7xqxY-iHncYM"
      }
    },
    {
      "cell_type": "code",
      "source": [
        "# from sklearn.linear_model import Lasso\n",
        "# import numpy as np\n",
        "\n",
        "# def select_features_with_l1(data, target, alpha=0.01):\n",
        "#     # Extract only the continuous features (columns 41 to 92, index 40 to 91)\n",
        "#     continuous_features = data[:, 40:92]\n",
        "\n",
        "#     model = Lasso(alpha=alpha)\n",
        "#     model.fit(continuous_features, target)\n",
        "\n",
        "#     # Get indices of selected features in the continuous feature space\n",
        "#     selected_features = np.where(model.coef_ != 0)[0]\n",
        "\n",
        "#     # Adjust the feature indices to reflect the original dataset\n",
        "#     selected_feature_indices = np.arange(40, 92)[selected_features]\n",
        "#     return selected_feature_indices\n",
        "\n",
        "# # Assuming `data` and `target` are numpy arrays\n",
        "# selected_features = select_features_with_l1(data, target)\n",
        "# print(f\"Selected features: {selected_features}\")\n"
      ],
      "metadata": {
        "id": "85mZDMinnk3q"
      },
      "execution_count": 33,
      "outputs": []
    },
    {
      "cell_type": "code",
      "metadata": {
        "id": "0zlpIp9ANJRU"
      },
      "source": [
        "class COVID19Dataset(Dataset):\n",
        "    ''' Dataset for loading and preprocessing the COVID19 dataset '''\n",
        "    def __init__(self,\n",
        "                 path,\n",
        "                 mode='train',\n",
        "                 target_only=False,\n",
        "                 selectfeats=None):\n",
        "        self.mode = mode\n",
        "\n",
        "        # Read data into numpy arrays\n",
        "        with open(path, 'r') as fp:\n",
        "            data = list(csv.reader(fp))\n",
        "            data = np.array(data[1:])[:, 1:].astype(float)\n",
        "\n",
        "        if not target_only:\n",
        "            feats = list(range(93))\n",
        "        else:\n",
        "            # TODO: Using 40 states & 2 tested_positive features (indices = 57 & 75)\n",
        "            #feats = list(range(40))+[57, 75]\n",
        "            # modified select feats\n",
        "            # print(f\"select feature...\")\n",
        "            # target = data[:, -1]\n",
        "            # select_index = select_features_with_l1(data, target)\n",
        "            # print(f\"selected feature：{select_index}\")\n",
        "            feats = list(range(40))+list(selectfeats)\n",
        "\n",
        "\n",
        "        if mode == 'test':\n",
        "            # Testing data\n",
        "            # data: 893 x 93 (40 states + day 1 (18) + day 2 (18) + day 3 (17))\n",
        "            data = data[:, feats]\n",
        "            self.data = torch.FloatTensor(data)\n",
        "        else:\n",
        "            # Training data (train/dev sets)\n",
        "            # data: 2700 x 94 (40 states + day 1 (18) + day 2 (18) + day 3 (18))\n",
        "            target = data[:, -1]\n",
        "            data = data[:, feats]\n",
        "\n",
        "            # Splitting training data into train & dev sets\n",
        "            if mode == 'train':\n",
        "                indices = [i for i in range(len(data)) if i % 10 != 0]\n",
        "            elif mode == 'dev':\n",
        "                indices = [i for i in range(len(data)) if i % 10 == 0]\n",
        "\n",
        "            # Convert data into PyTorch tensors\n",
        "            self.data = torch.FloatTensor(data[indices])\n",
        "            self.target = torch.FloatTensor(target[indices])\n",
        "\n",
        "        # Normalize features (you may remove this part to see what will happen)\n",
        "        self.data[:, 40:] = \\\n",
        "            (self.data[:, 40:] - self.data[:, 40:].mean(dim=0, keepdim=True)) \\\n",
        "            / self.data[:, 40:].std(dim=0, keepdim=True)\n",
        "\n",
        "        self.dim = self.data.shape[1]\n",
        "\n",
        "        print('Finished reading the {} set of COVID19 Dataset ({} samples found, each dim = {})'\n",
        "              .format(mode, len(self.data), self.dim))\n",
        "\n",
        "    def __getitem__(self, index):\n",
        "        # Returns one sample at a time\n",
        "        if self.mode in ['train', 'dev']:\n",
        "            # For training\n",
        "            return self.data[index], self.target[index]\n",
        "        else:\n",
        "            # For testing (no target)\n",
        "            return self.data[index]\n",
        "\n",
        "    def __len__(self):\n",
        "        # Returns the size of the dataset\n",
        "        return len(self.data)"
      ],
      "execution_count": 34,
      "outputs": []
    },
    {
      "cell_type": "markdown",
      "metadata": {
        "id": "AlhTlkE7MDo3"
      },
      "source": [
        "## **DataLoader**\n",
        "\n",
        "A `DataLoader` loads data from a given `Dataset` into batches.\n"
      ]
    },
    {
      "cell_type": "code",
      "metadata": {
        "id": "hlhLk5t6MBX3"
      },
      "source": [
        "def prep_dataloader(path, mode, batch_size, n_jobs=0, target_only=False, selectfeats=None):\n",
        "    ''' Generates a dataset, then is put into a dataloader. '''\n",
        "    dataset = COVID19Dataset(path, mode=mode, target_only=target_only, selectfeats=selectfeats)  # Construct dataset\n",
        "    dataloader = DataLoader(\n",
        "        dataset, batch_size,\n",
        "        shuffle=(mode == 'train'), drop_last=False,\n",
        "        num_workers=n_jobs, pin_memory=True)                            # Construct dataloader\n",
        "    return dataloader"
      ],
      "execution_count": 35,
      "outputs": []
    },
    {
      "cell_type": "markdown",
      "metadata": {
        "id": "SGuycwR0MeQB"
      },
      "source": [
        "# **Deep Neural Network**\n",
        "\n",
        "`NeuralNet` is an `nn.Module` designed for regression.\n",
        "The DNN consists of 2 fully-connected layers with ReLU activation.\n",
        "This module also included a function `cal_loss` for calculating loss.\n"
      ]
    },
    {
      "cell_type": "code",
      "metadata": {
        "id": "49-uXYovOAI0"
      },
      "source": [
        "class NeuralNet(nn.Module):\n",
        "    ''' A simple fully-connected deep neural network '''\n",
        "    def __init__(self, input_dim):\n",
        "        super(NeuralNet, self).__init__()\n",
        "\n",
        "        # Define your neural network here\n",
        "        # TODO: How to modify this model to achieve better performance?\n",
        "        self.net = nn.Sequential(\n",
        "            nn.Linear(input_dim, 64),\n",
        "            nn.ReLU(),\n",
        "            nn.Linear(64, 1)\n",
        "        )\n",
        "\n",
        "        # Mean squared error loss\n",
        "        self.criterion = nn.MSELoss(reduction='mean')\n",
        "        self.l1 = nn.L1Loss()\n",
        "        self.lambda_l2 = 0.001\n",
        "\n",
        "    def forward(self, x):\n",
        "        ''' Given input of size (batch_size x input_dim), compute output of the network '''\n",
        "        return self.net(x).squeeze(1)\n",
        "\n",
        "    def cal_loss(self, pred, target):\n",
        "        ''' Calculate loss '''\n",
        "        # TODO: you may implement L1/L2 regularization here\n",
        "        mse_loss = self.criterion(pred, target)\n",
        "\n",
        "        # Compute L2 regularization loss\n",
        "        l2_loss = self.lambda_l2 * sum(p.pow(2).sum() for p in self.parameters())\n",
        "\n",
        "        # Combine losses\n",
        "        total_loss = mse_loss + l2_loss\n",
        "        return total_loss\n",
        "\n",
        "        #return self.criterion(pred, target)"
      ],
      "execution_count": 36,
      "outputs": []
    },
    {
      "cell_type": "markdown",
      "metadata": {
        "id": "DvFWVjZ5Nvga"
      },
      "source": [
        "# **Train/Dev/Test**"
      ]
    },
    {
      "cell_type": "markdown",
      "metadata": {
        "id": "MAM8QecJOyqn"
      },
      "source": [
        "## **Training**"
      ]
    },
    {
      "cell_type": "code",
      "metadata": {
        "id": "lOqcmYzMO7jB"
      },
      "source": [
        "def train(tr_set, dv_set, model, config, device):\n",
        "    ''' DNN training '''\n",
        "\n",
        "    n_epochs = config['n_epochs']  # Maximum number of epochs\n",
        "\n",
        "    # Setup optimizer\n",
        "    optimizer = getattr(torch.optim, config['optimizer'])(\n",
        "        model.parameters(), **config['optim_hparas'])\n",
        "\n",
        "    min_mse = 1000.\n",
        "    loss_record = {'train': [], 'dev': []}      # for recording training loss\n",
        "    early_stop_cnt = 0\n",
        "    epoch = 0\n",
        "    while epoch < n_epochs:\n",
        "        model.train()                           # set model to training mode\n",
        "        for x, y in tr_set:                     # iterate through the dataloader\n",
        "            optimizer.zero_grad()               # set gradient to zero\n",
        "            x, y = x.to(device), y.to(device)   # move data to device (cpu/cuda)\n",
        "            pred = model(x)                     # forward pass (compute output)\n",
        "            mse_loss = model.cal_loss(pred, y)  # compute loss\n",
        "            mse_loss.backward()                 # compute gradient (backpropagation)\n",
        "            optimizer.step()                    # update model with optimizer\n",
        "            loss_record['train'].append(mse_loss.detach().cpu().item())\n",
        "\n",
        "        # After each epoch, test your model on the validation (development) set.\n",
        "        dev_mse = dev(dv_set, model, device)\n",
        "        if dev_mse < min_mse:\n",
        "            # Save model if your model improved\n",
        "            min_mse = dev_mse\n",
        "            print('Saving model (epoch = {:4d}, loss = {:.4f})'\n",
        "                .format(epoch + 1, min_mse))\n",
        "            torch.save(model.state_dict(), config['save_path'])  # Save model to specified path\n",
        "            early_stop_cnt = 0\n",
        "        else:\n",
        "            early_stop_cnt += 1\n",
        "\n",
        "        epoch += 1\n",
        "        loss_record['dev'].append(dev_mse)\n",
        "        if early_stop_cnt > config['early_stop']:\n",
        "            # Stop training if your model stops improving for \"config['early_stop']\" epochs.\n",
        "            break\n",
        "\n",
        "    print('Finished training after {} epochs'.format(epoch))\n",
        "    return min_mse, loss_record"
      ],
      "execution_count": 37,
      "outputs": []
    },
    {
      "cell_type": "markdown",
      "metadata": {
        "id": "0hSd4Bn3O2PL"
      },
      "source": [
        "## **Validation**"
      ]
    },
    {
      "cell_type": "code",
      "metadata": {
        "id": "yrxrD3YsN3U2"
      },
      "source": [
        "def dev(dv_set, model, device):\n",
        "    model.eval()                                # set model to evalutation mode\n",
        "    total_loss = 0\n",
        "    for x, y in dv_set:                         # iterate through the dataloader\n",
        "        x, y = x.to(device), y.to(device)       # move data to device (cpu/cuda)\n",
        "        with torch.no_grad():                   # disable gradient calculation\n",
        "            pred = model(x)                     # forward pass (compute output)\n",
        "            mse_loss = model.cal_loss(pred, y)  # compute loss\n",
        "        total_loss += mse_loss.detach().cpu().item() * len(x)  # accumulate loss\n",
        "    total_loss = total_loss / len(dv_set.dataset)              # compute averaged loss\n",
        "\n",
        "    return total_loss"
      ],
      "execution_count": 38,
      "outputs": []
    },
    {
      "cell_type": "markdown",
      "metadata": {
        "id": "g0pdrhQAO41L"
      },
      "source": [
        "## **Testing**"
      ]
    },
    {
      "cell_type": "code",
      "metadata": {
        "id": "aSBMRFlYN5tB"
      },
      "source": [
        "def test(tt_set, model, device):\n",
        "    model.eval()                                # set model to evalutation mode\n",
        "    preds = []\n",
        "    for x in tt_set:                            # iterate through the dataloader\n",
        "        x = x.to(device)                        # move data to device (cpu/cuda)\n",
        "        with torch.no_grad():                   # disable gradient calculation\n",
        "            pred = model(x)                     # forward pass (compute output)\n",
        "            preds.append(pred.detach().cpu())   # collect prediction\n",
        "    preds = torch.cat(preds, dim=0).numpy()     # concatenate all predictions and convert to a numpy array\n",
        "    return preds"
      ],
      "execution_count": 39,
      "outputs": []
    },
    {
      "cell_type": "markdown",
      "metadata": {
        "id": "SvckkF5dvf0j"
      },
      "source": [
        "# **Setup Hyper-parameters**\n",
        "\n",
        "`config` contains hyper-parameters for training and the path to save your model."
      ]
    },
    {
      "cell_type": "code",
      "metadata": {
        "id": "NPXpdumwPjE7"
      },
      "source": [
        "device = get_device()                 # get the current available device ('cpu' or 'cuda')\n",
        "os.makedirs('models', exist_ok=True)  # The trained model will be saved to ./models/\n",
        "target_only = True                   # TODO: Using 40 states & 2 tested_positive features\n",
        "\n",
        "# TODO: How to tune these hyper-parameters to improve your model's performance?\n",
        "config = {\n",
        "    'n_epochs': 3000,                # maximum number of epochs\n",
        "    'batch_size': 270,               # mini-batch size for dataloader\n",
        "    'optimizer': 'SGD',              # optimization algorithm (optimizer in torch.optim)\n",
        "    'optim_hparas': {                # hyper-parameters for the optimizer (depends on which optimizer you are using)\n",
        "        'lr': 0.001,                 # learning rate of SGD\n",
        "        'momentum': 0.9              # momentum for SGD\n",
        "    },\n",
        "    'early_stop': 200,               # early stopping epochs (the number epochs since your model's last improvement)\n",
        "    'save_path': 'models/model.pth'  # your model will be saved here\n",
        "}"
      ],
      "execution_count": 40,
      "outputs": []
    },
    {
      "cell_type": "markdown",
      "metadata": {
        "id": "6j1eOV3TOH-j"
      },
      "source": [
        "# **Load data and model**"
      ]
    },
    {
      "cell_type": "markdown",
      "source": [
        "modified:: selecting feats"
      ],
      "metadata": {
        "id": "rqxtuYQQKV7E"
      }
    },
    {
      "cell_type": "code",
      "source": [
        "from sklearn.linear_model import Lasso\n",
        "from sklearn.ensemble import RandomForestRegressor\n",
        "import numpy as np\n",
        "\n",
        "def select_features(tr_path, alpha=0.01):\n",
        "    # Extract only the continuous features (columns 41 to 92, index 40 to 91)\n",
        "    with open(tr_path, 'r') as fp:\n",
        "      data = list(csv.reader(fp))\n",
        "      data = np.array(data[1:])[:, 1:].astype(float)\n",
        "\n",
        "    target = data[:, -1]\n",
        "    continuous_features = data[:, 40:92]\n",
        "\n",
        "    #model = Lasso(alpha=alpha)\n",
        "    model = RandomForestRegressor(n_estimators=100, random_state=42)\n",
        "    model.fit(continuous_features, target)\n",
        "\n",
        "    feature_importances = model.feature_importances_\n",
        "    selected_features = np.where(feature_importances > np.mean(feature_importances))[0]\n",
        "\n",
        "    # Get indices of selected features in the continuous feature space(lasso)\n",
        "    #selected_features = np.where(model.coef_ != 0)[0]\n",
        "\n",
        "    # Adjust the feature indices to reflect the original dataset\n",
        "    selected_feats = np.arange(40, 92)[selected_features]\n",
        "    return selected_feats\n",
        "\n",
        "\n",
        "\n",
        "# with open(tr_path, 'r') as fp:\n",
        "#   data = list(csv.reader(fp))\n",
        "#   data = np.array(data[1:])[:, 1:].astype(float)\n",
        "\n",
        "#   if not target_only:\n",
        "#     feats = list(range(93))\n",
        "#   else:\n",
        "#     # TODO: Using 40 states & 2 tested_positive features (indices = 57 & 75)\n",
        "#     #feats = list(range(40))+[57, 75]\n",
        "#     # modified select feats\n",
        "#     print(f\"select feature...\")\n",
        "#     target = data[:, -1]\n",
        "#     select_index = select_features_with_l1(data, target)\n",
        "#     print(f\"selected feature：{select_index}\")\n",
        "#     feats = list(range(40))+list(select_index)"
      ],
      "metadata": {
        "id": "K0_LnRlhKVf9"
      },
      "execution_count": 56,
      "outputs": []
    },
    {
      "cell_type": "code",
      "metadata": {
        "colab": {
          "base_uri": "https://localhost:8080/"
        },
        "id": "eNrYBMmePLKm",
        "outputId": "b5cd4926-b76b-4474-f8bb-09a5eee4ca4b"
      },
      "source": [
        "sel_feats = select_features(tr_path)\n",
        "#sel_feats = [57, 75]\n",
        "\n",
        "tr_set = prep_dataloader(tr_path, 'train', config['batch_size'], target_only=target_only, selectfeats=sel_feats)\n",
        "dv_set = prep_dataloader(tr_path, 'dev', config['batch_size'], target_only=target_only, selectfeats=sel_feats)\n",
        "tt_set = prep_dataloader(tt_path, 'test', config['batch_size'], target_only=target_only, selectfeats=sel_feats)"
      ],
      "execution_count": 57,
      "outputs": [
        {
          "output_type": "stream",
          "name": "stdout",
          "text": [
            "Finished reading the train set of COVID19 Dataset (2430 samples found, each dim = 41)\n",
            "Finished reading the dev set of COVID19 Dataset (270 samples found, each dim = 41)\n",
            "Finished reading the test set of COVID19 Dataset (893 samples found, each dim = 41)\n"
          ]
        }
      ]
    },
    {
      "cell_type": "code",
      "metadata": {
        "id": "FHylSirLP9oh"
      },
      "source": [
        "model = NeuralNet(tr_set.dataset.dim).to(device)  # Construct model and move to device"
      ],
      "execution_count": 58,
      "outputs": []
    },
    {
      "cell_type": "markdown",
      "metadata": {
        "id": "sX2B_zgSOPTJ"
      },
      "source": [
        "# **Start Training!**"
      ]
    },
    {
      "cell_type": "code",
      "metadata": {
        "colab": {
          "base_uri": "https://localhost:8080/"
        },
        "id": "GrEbUxazQAAZ",
        "outputId": "71d13f80-2127-4c1d-e76e-cd22e8b6c7e8"
      },
      "source": [
        "model_loss, model_loss_record = train(tr_set, dv_set, model, config, device)"
      ],
      "execution_count": 59,
      "outputs": [
        {
          "output_type": "stream",
          "name": "stdout",
          "text": [
            "Saving model (epoch =    1, loss = 263.8616)\n",
            "Saving model (epoch =    2, loss = 52.1256)\n",
            "Saving model (epoch =    3, loss = 47.0961)\n",
            "Saving model (epoch =    4, loss = 10.2835)\n",
            "Saving model (epoch =    5, loss = 2.5855)\n",
            "Saving model (epoch =    7, loss = 2.0076)\n",
            "Saving model (epoch =    8, loss = 1.3893)\n",
            "Saving model (epoch =   10, loss = 1.3437)\n",
            "Saving model (epoch =   11, loss = 1.2676)\n",
            "Saving model (epoch =   12, loss = 1.2617)\n",
            "Saving model (epoch =   13, loss = 1.2391)\n",
            "Saving model (epoch =   14, loss = 1.2189)\n",
            "Saving model (epoch =   15, loss = 1.2043)\n",
            "Saving model (epoch =   16, loss = 1.1916)\n",
            "Saving model (epoch =   17, loss = 1.1823)\n",
            "Saving model (epoch =   18, loss = 1.1753)\n",
            "Saving model (epoch =   19, loss = 1.1699)\n",
            "Saving model (epoch =   20, loss = 1.1604)\n",
            "Saving model (epoch =   21, loss = 1.1569)\n",
            "Saving model (epoch =   22, loss = 1.1534)\n",
            "Saving model (epoch =   23, loss = 1.1491)\n",
            "Saving model (epoch =   24, loss = 1.1447)\n",
            "Saving model (epoch =   25, loss = 1.1379)\n",
            "Saving model (epoch =   26, loss = 1.1368)\n",
            "Saving model (epoch =   28, loss = 1.1301)\n",
            "Saving model (epoch =   29, loss = 1.1285)\n",
            "Saving model (epoch =   30, loss = 1.1255)\n",
            "Saving model (epoch =   32, loss = 1.1218)\n",
            "Saving model (epoch =   33, loss = 1.1200)\n",
            "Saving model (epoch =   34, loss = 1.1189)\n",
            "Saving model (epoch =   35, loss = 1.1188)\n",
            "Saving model (epoch =   36, loss = 1.1171)\n",
            "Saving model (epoch =   37, loss = 1.1126)\n",
            "Saving model (epoch =   40, loss = 1.1088)\n",
            "Saving model (epoch =   41, loss = 1.1076)\n",
            "Saving model (epoch =   43, loss = 1.1072)\n",
            "Saving model (epoch =   44, loss = 1.1026)\n",
            "Saving model (epoch =   47, loss = 1.1016)\n",
            "Saving model (epoch =   48, loss = 1.1016)\n",
            "Saving model (epoch =   49, loss = 1.0995)\n",
            "Saving model (epoch =   51, loss = 1.0977)\n",
            "Saving model (epoch =   53, loss = 1.0960)\n",
            "Saving model (epoch =   54, loss = 1.0938)\n",
            "Saving model (epoch =   55, loss = 1.0936)\n",
            "Saving model (epoch =   56, loss = 1.0931)\n",
            "Saving model (epoch =   57, loss = 1.0921)\n",
            "Saving model (epoch =   58, loss = 1.0897)\n",
            "Saving model (epoch =   62, loss = 1.0883)\n",
            "Saving model (epoch =   63, loss = 1.0876)\n",
            "Saving model (epoch =   64, loss = 1.0856)\n",
            "Saving model (epoch =   67, loss = 1.0842)\n",
            "Saving model (epoch =   68, loss = 1.0836)\n",
            "Saving model (epoch =   70, loss = 1.0813)\n",
            "Saving model (epoch =   73, loss = 1.0797)\n",
            "Saving model (epoch =   75, loss = 1.0790)\n",
            "Saving model (epoch =   76, loss = 1.0780)\n",
            "Saving model (epoch =   78, loss = 1.0767)\n",
            "Saving model (epoch =   79, loss = 1.0751)\n",
            "Saving model (epoch =   82, loss = 1.0715)\n",
            "Saving model (epoch =   85, loss = 1.0701)\n",
            "Saving model (epoch =   88, loss = 1.0688)\n",
            "Saving model (epoch =   91, loss = 1.0686)\n",
            "Saving model (epoch =   92, loss = 1.0659)\n",
            "Saving model (epoch =   96, loss = 1.0643)\n",
            "Saving model (epoch =  101, loss = 1.0632)\n",
            "Saving model (epoch =  102, loss = 1.0625)\n",
            "Saving model (epoch =  105, loss = 1.0598)\n",
            "Saving model (epoch =  108, loss = 1.0571)\n",
            "Saving model (epoch =  113, loss = 1.0560)\n",
            "Saving model (epoch =  118, loss = 1.0538)\n",
            "Saving model (epoch =  124, loss = 1.0528)\n",
            "Saving model (epoch =  125, loss = 1.0527)\n",
            "Saving model (epoch =  127, loss = 1.0513)\n",
            "Saving model (epoch =  130, loss = 1.0492)\n",
            "Saving model (epoch =  133, loss = 1.0488)\n",
            "Saving model (epoch =  137, loss = 1.0467)\n",
            "Saving model (epoch =  147, loss = 1.0454)\n",
            "Saving model (epoch =  150, loss = 1.0436)\n",
            "Saving model (epoch =  156, loss = 1.0428)\n",
            "Saving model (epoch =  159, loss = 1.0421)\n",
            "Saving model (epoch =  173, loss = 1.0410)\n",
            "Saving model (epoch =  175, loss = 1.0404)\n",
            "Saving model (epoch =  177, loss = 1.0400)\n",
            "Saving model (epoch =  184, loss = 1.0388)\n",
            "Saving model (epoch =  197, loss = 1.0384)\n",
            "Saving model (epoch =  199, loss = 1.0375)\n",
            "Saving model (epoch =  204, loss = 1.0369)\n",
            "Saving model (epoch =  205, loss = 1.0359)\n",
            "Saving model (epoch =  217, loss = 1.0344)\n",
            "Saving model (epoch =  243, loss = 1.0335)\n",
            "Saving model (epoch =  261, loss = 1.0327)\n",
            "Saving model (epoch =  276, loss = 1.0319)\n",
            "Saving model (epoch =  298, loss = 1.0306)\n",
            "Saving model (epoch =  337, loss = 1.0303)\n",
            "Saving model (epoch =  359, loss = 1.0302)\n",
            "Saving model (epoch =  369, loss = 1.0298)\n",
            "Saving model (epoch =  373, loss = 1.0286)\n",
            "Saving model (epoch =  399, loss = 1.0282)\n",
            "Saving model (epoch =  429, loss = 1.0280)\n",
            "Saving model (epoch =  561, loss = 1.0270)\n",
            "Finished training after 762 epochs\n"
          ]
        }
      ]
    },
    {
      "cell_type": "code",
      "metadata": {
        "colab": {
          "base_uri": "https://localhost:8080/",
          "height": 410
        },
        "id": "hsNO9nnXQBvP",
        "outputId": "ff836b9f-70d3-4ece-9aa6-c46d1d891b49"
      },
      "source": [
        "plot_learning_curve(model_loss_record, title='deep model')"
      ],
      "execution_count": 60,
      "outputs": [
        {
          "output_type": "display_data",
          "data": {
            "text/plain": [
              "<Figure size 600x400 with 1 Axes>"
            ],
            "image/png": "[encoded data removed]"
          },
          "metadata": {}
        }
      ]
    },
    {
      "cell_type": "code",
      "metadata": {
        "colab": {
          "base_uri": "https://localhost:8080/",
          "height": 487
        },
        "id": "3iZTVn5WQFpX",
        "outputId": "b29bf6d4-ff62-4749-d279-21bc473c48f1"
      },
      "source": [
        "del model\n",
        "model = NeuralNet(tr_set.dataset.dim).to(device)\n",
        "ckpt = torch.load(config['save_path'], map_location='cpu')  # Load your best model\n",
        "model.load_state_dict(ckpt)\n",
        "plot_pred(dv_set, model, device)  # Show prediction on the validation set"
      ],
      "execution_count": 61,
      "outputs": [
        {
          "output_type": "display_data",
          "data": {
            "text/plain": [
              "<Figure size 500x500 with 1 Axes>"
            ],
            "image/png": "[encoded data removed]"
          },
          "metadata": {}
        }
      ]
    },
    {
      "cell_type": "markdown",
      "metadata": {
        "id": "aQikz3IPiyPf"
      },
      "source": [
        "# **Testing**\n",
        "The predictions of your model on testing set will be stored at `pred.csv`."
      ]
    },
    {
      "cell_type": "code",
      "metadata": {
        "colab": {
          "base_uri": "https://localhost:8080/"
        },
        "id": "O8cTuQjQQOon",
        "outputId": "a6ef967f-c867-4e51-a8f3-8dc36f9993cf"
      },
      "source": [
        "def save_pred(preds, file):\n",
        "    ''' Save predictions to specified file '''\n",
        "    print('Saving results to {}'.format(file))\n",
        "    with open(file, 'w') as fp:\n",
        "        writer = csv.writer(fp)\n",
        "        writer.writerow(['id', 'tested_positive'])\n",
        "        for i, p in enumerate(preds):\n",
        "            writer.writerow([i, p])\n",
        "\n",
        "preds = test(tt_set, model, device)  # predict COVID-19 cases with your model\n",
        "save_pred(preds, 'pred.csv')         # save prediction file to pred.csv"
      ],
      "execution_count": 62,
      "outputs": [
        {
          "output_type": "stream",
          "name": "stdout",
          "text": [
            "Saving results to pred.csv\n"
          ]
        }
      ]
    },
    {
      "cell_type": "markdown",
      "metadata": {
        "id": "nfrVxqJanGpE"
      },
      "source": [
        "# **Hints**\n",
        "\n",
        "## **Simple Baseline**\n",
        "* Run sample code\n",
        "\n",
        "## **Medium Baseline**\n",
        "* Feature selection: 40 states + 2 `tested_positive` (`TODO` in dataset)\n",
        "\n",
        "## **Strong Baseline**\n",
        "* Feature selection (what other features are useful?)\n",
        "* DNN architecture (layers? dimension? activation function?)\n",
        "* Training (mini-batch? optimizer? learning rate?)\n",
        "* L2 regularization\n",
        "* There are some mistakes in the sample code, can you find them?"
      ]
    },
    {
      "cell_type": "markdown",
      "metadata": {
        "id": "9tmCwXgpot3t"
      },
      "source": [
        "# **Reference**\n",
        "This code is completely written by Heng-Jui Chang @ NTUEE.  \n",
        "Copying or reusing this code is required to specify the original author.\n",
        "\n",
        "E.g.  \n",
        "Source: Heng-Jui Chang @ NTUEE (https://github.com/ga642381/ML2021-Spring/blob/main/HW01/HW01.ipynb)\n"
      ]
    }
  ]
}